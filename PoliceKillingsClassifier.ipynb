{
  "nbformat": 4,
  "nbformat_minor": 0,
  "metadata": {
    "colab": {
      "name": "PoliceKillingsClassifier.ipynb",
      "provenance": [],
      "collapsed_sections": [],
      "authorship_tag": "ABX9TyPYtD8OtCxkHdYLC1wNywOC",
      "include_colab_link": true
    },
    "kernelspec": {
      "name": "python3",
      "display_name": "Python 3"
    }
  },
  "cells": [
    {
      "cell_type": "markdown",
      "metadata": {
        "id": "view-in-github",
        "colab_type": "text"
      },
      "source": [
        "<a href=\"https://colab.research.google.com/github/anaiy2004/African-American-Police-Killings-Classifier/blob/master/PoliceKillingsClassifier.ipynb\" target=\"_parent\"><img src=\"https://colab.research.google.com/assets/colab-badge.svg\" alt=\"Open In Colab\"/></a>"
      ]
    },
    {
      "cell_type": "markdown",
      "metadata": {
        "id": "_oE4p4w2Psa7"
      },
      "source": [
        "Data Download and Pre-Processing from [Mapping Police Violence](\"https://static1.squarespace.com/static/54ecf211e4b0ed744420c5b6/t/5f04cebda843400a2e8bacd4/1594150600757/MPVDatasetDownload.xlsx\")\n",
        "\n",
        "\n",
        "\n"
      ]
    },
    {
      "cell_type": "code",
      "metadata": {
        "id": "igcix6D5aHh7"
      },
      "source": [
        "#importing useful libraries\n",
        "import pandas as pd\n",
        "import numpy  as np\n",
        "import matplotlib.pyplot as plt\n",
        "import psycopg2 as ps"
      ],
      "execution_count": null,
      "outputs": []
    },
    {
      "cell_type": "code",
      "metadata": {
        "id": "rsDP6SI-aK4r"
      },
      "source": [
        "#url of download (if this does not work, just download it locally on your computer from mappingpoliceviolence.com, hit ctrl j in chrome, and compy and paste the url of the download)\n",
        "url = \"https://static1.squarespace.com/static/54ecf211e4b0ed744420c5b6/t/608f7f8327be7c76060fa19f/1620017033853/MPVDatasetDownload.xlsx\""
      ],
      "execution_count": null,
      "outputs": []
    },
    {
      "cell_type": "code",
      "metadata": {
        "id": "O5Ng505ka0rs",
        "colab": {
          "base_uri": "https://localhost:8080/",
          "height": 281
        },
        "outputId": "aee68f3f-ec1e-412d-f3d0-903b6cc447cc"
      },
      "source": [
        "#creates a dataframe by reading in url with columns = column_names\n",
        "column_names = [\"Victims name\" ,  \"VictimsAge\" , \"VictimsGender\" , \"VictimsRace\", \"URLofimage\" , \"Date of Incident\", \"Street\" , \"City\" , \"State\" , \"Zipcode\" , \"County\" , \"Agency\", \"ORI Identifier\", \"CauseOfDeath\" , \"description\" , \"disposition\" , \"CriminalCharges\" , \"link\" , \"MentalIllness\" , \"Armed\" , \"AllegedWeapon\" , \"AllegedThreatLevel\" , \"Fleeing\" , \"BodyCam\", \"WaPO ID\"  , \"Offduty\" , \"Geo\" , \"ID\", \"FatalEncountersId\", \"order\", \"Encounter Type\", \"reason for encounter\", \"namesOfficer\", \"raceOfficer\", \"past\", \"service\"]\n",
        "df  = pd.read_excel(url, \"2013-2020 Police Killings\", header=None, names = column_names)\n",
        "df = df.iloc[1:]\n",
        "df.tail(2)"
      ],
      "execution_count": null,
      "outputs": [
        {
          "output_type": "execute_result",
          "data": {
            "text/html": [
              "<div>\n",
              "<style scoped>\n",
              "    .dataframe tbody tr th:only-of-type {\n",
              "        vertical-align: middle;\n",
              "    }\n",
              "\n",
              "    .dataframe tbody tr th {\n",
              "        vertical-align: top;\n",
              "    }\n",
              "\n",
              "    .dataframe thead th {\n",
              "        text-align: right;\n",
              "    }\n",
              "</style>\n",
              "<table border=\"1\" class=\"dataframe\">\n",
              "  <thead>\n",
              "    <tr style=\"text-align: right;\">\n",
              "      <th></th>\n",
              "      <th>Victims name</th>\n",
              "      <th>VictimsAge</th>\n",
              "      <th>VictimsGender</th>\n",
              "      <th>VictimsRace</th>\n",
              "      <th>URLofimage</th>\n",
              "      <th>Date of Incident</th>\n",
              "      <th>Street</th>\n",
              "      <th>City</th>\n",
              "      <th>State</th>\n",
              "      <th>Zipcode</th>\n",
              "      <th>County</th>\n",
              "      <th>Agency</th>\n",
              "      <th>ORI Identifier</th>\n",
              "      <th>CauseOfDeath</th>\n",
              "      <th>description</th>\n",
              "      <th>disposition</th>\n",
              "      <th>CriminalCharges</th>\n",
              "      <th>link</th>\n",
              "      <th>MentalIllness</th>\n",
              "      <th>Armed</th>\n",
              "      <th>AllegedWeapon</th>\n",
              "      <th>AllegedThreatLevel</th>\n",
              "      <th>Fleeing</th>\n",
              "      <th>BodyCam</th>\n",
              "      <th>WaPO ID</th>\n",
              "      <th>Offduty</th>\n",
              "      <th>Geo</th>\n",
              "      <th>ID</th>\n",
              "      <th>FatalEncountersId</th>\n",
              "      <th>order</th>\n",
              "      <th>Encounter Type</th>\n",
              "      <th>reason for encounter</th>\n",
              "      <th>namesOfficer</th>\n",
              "      <th>raceOfficer</th>\n",
              "      <th>past</th>\n",
              "      <th>service</th>\n",
              "    </tr>\n",
              "  </thead>\n",
              "  <tbody>\n",
              "    <tr>\n",
              "      <th>9115</th>\n",
              "      <td>Mark Chavez</td>\n",
              "      <td>49</td>\n",
              "      <td>Male</td>\n",
              "      <td>Hispanic</td>\n",
              "      <td>http://www.tricitytribuneusa.com/wp-content/up...</td>\n",
              "      <td>2013-01-01 00:00:00</td>\n",
              "      <td>912 Loma Linda Ave.</td>\n",
              "      <td>Farmington</td>\n",
              "      <td>NM</td>\n",
              "      <td>87401</td>\n",
              "      <td>San Juan</td>\n",
              "      <td>Farmington Police Department</td>\n",
              "      <td>NM0240200</td>\n",
              "      <td>Gunshot</td>\n",
              "      <td>An officer responded to a report by Chavez tha...</td>\n",
              "      <td>Unreported</td>\n",
              "      <td>No known charges</td>\n",
              "      <td>http://www.daily-times.com/farmington-news/ci_...</td>\n",
              "      <td>No</td>\n",
              "      <td>Allegedly Armed</td>\n",
              "      <td>blunt weapon</td>\n",
              "      <td>NaN</td>\n",
              "      <td>NaN</td>\n",
              "      <td>NaN</td>\n",
              "      <td>NaN</td>\n",
              "      <td>NaN</td>\n",
              "      <td>Urban</td>\n",
              "      <td>1</td>\n",
              "      <td>12175</td>\n",
              "      <td>NaN</td>\n",
              "      <td>NaN</td>\n",
              "      <td>NaN</td>\n",
              "      <td>NaN</td>\n",
              "      <td>NaN</td>\n",
              "      <td>NaN</td>\n",
              "      <td>NaN</td>\n",
              "    </tr>\n",
              "    <tr>\n",
              "      <th>9116</th>\n",
              "      <td>Tyree Bell</td>\n",
              "      <td>31</td>\n",
              "      <td>Male</td>\n",
              "      <td>Black</td>\n",
              "      <td>http://content.omaha.com/media/maps/ps/2013/ja...</td>\n",
              "      <td>2013-01-01 00:00:00</td>\n",
              "      <td>3727 N. 42nd St.</td>\n",
              "      <td>Omaha</td>\n",
              "      <td>NE</td>\n",
              "      <td>68111</td>\n",
              "      <td>Douglas</td>\n",
              "      <td>Omaha Police Department</td>\n",
              "      <td>NB0280200</td>\n",
              "      <td>Gunshot</td>\n",
              "      <td>Omaha Police Department responded to a 911 dom...</td>\n",
              "      <td>Grand jury/No bill or Cleared</td>\n",
              "      <td>No known charges</td>\n",
              "      <td>http://www.ketv.com/news/Police-chief-details-...</td>\n",
              "      <td>Yes</td>\n",
              "      <td>Allegedly Armed</td>\n",
              "      <td>gun</td>\n",
              "      <td>NaN</td>\n",
              "      <td>NaN</td>\n",
              "      <td>NaN</td>\n",
              "      <td>NaN</td>\n",
              "      <td>NaN</td>\n",
              "      <td>Urban</td>\n",
              "      <td>2</td>\n",
              "      <td>12173</td>\n",
              "      <td>NaN</td>\n",
              "      <td>NaN</td>\n",
              "      <td>NaN</td>\n",
              "      <td>NaN</td>\n",
              "      <td>NaN</td>\n",
              "      <td>NaN</td>\n",
              "      <td>NaN</td>\n",
              "    </tr>\n",
              "  </tbody>\n",
              "</table>\n",
              "</div>"
            ],
            "text/plain": [
              "     Victims name VictimsAge VictimsGender  ... raceOfficer past service\n",
              "9115  Mark Chavez         49          Male  ...         NaN  NaN     NaN\n",
              "9116   Tyree Bell         31          Male  ...         NaN  NaN     NaN\n",
              "\n",
              "[2 rows x 36 columns]"
            ]
          },
          "metadata": {
            "tags": []
          },
          "execution_count": 6
        }
      ]
    },
    {
      "cell_type": "code",
      "metadata": {
        "id": "rqDttPxJRKNN",
        "colab": {
          "base_uri": "https://localhost:8080/",
          "height": 201
        },
        "outputId": "5b6785df-c7af-4611-dd21-5c431281a710"
      },
      "source": [
        "#deleting unnecesary information\n",
        "df = df.drop(columns=['City','Encounter Type','VictimsAge', 'reason for encounter','Offduty', 'Victims name' , 'Zipcode','ORI Identifier', 'URLofimage', 'County' , \"order\", \"namesOfficer\", \"description\",\"raceOfficer\", \"past\",\"service\", 'Street', 'Date of Incident' , \"Offduty\",  'Geo', 'Agency'  , 'link' , 'WaPO ID' , 'ID', 'FatalEncountersId' ])\n",
        "df = df.dropna()\n",
        "df.head()\n"
      ],
      "execution_count": null,
      "outputs": [
        {
          "output_type": "execute_result",
          "data": {
            "text/html": [
              "<div>\n",
              "<style scoped>\n",
              "    .dataframe tbody tr th:only-of-type {\n",
              "        vertical-align: middle;\n",
              "    }\n",
              "\n",
              "    .dataframe tbody tr th {\n",
              "        vertical-align: top;\n",
              "    }\n",
              "\n",
              "    .dataframe thead th {\n",
              "        text-align: right;\n",
              "    }\n",
              "</style>\n",
              "<table border=\"1\" class=\"dataframe\">\n",
              "  <thead>\n",
              "    <tr style=\"text-align: right;\">\n",
              "      <th></th>\n",
              "      <th>VictimsGender</th>\n",
              "      <th>VictimsRace</th>\n",
              "      <th>State</th>\n",
              "      <th>CauseOfDeath</th>\n",
              "      <th>disposition</th>\n",
              "      <th>CriminalCharges</th>\n",
              "      <th>MentalIllness</th>\n",
              "      <th>Armed</th>\n",
              "      <th>AllegedWeapon</th>\n",
              "      <th>AllegedThreatLevel</th>\n",
              "      <th>Fleeing</th>\n",
              "      <th>BodyCam</th>\n",
              "    </tr>\n",
              "  </thead>\n",
              "  <tbody>\n",
              "    <tr>\n",
              "      <th>1</th>\n",
              "      <td>Male</td>\n",
              "      <td>White</td>\n",
              "      <td>CA</td>\n",
              "      <td>Gunshot</td>\n",
              "      <td>Pending investigation</td>\n",
              "      <td>No known charges</td>\n",
              "      <td>Yes</td>\n",
              "      <td>Unarmed/Did Not Have Actual Weapon</td>\n",
              "      <td>no object</td>\n",
              "      <td>other</td>\n",
              "      <td>not fleeing</td>\n",
              "      <td>yes</td>\n",
              "    </tr>\n",
              "    <tr>\n",
              "      <th>2</th>\n",
              "      <td>Male</td>\n",
              "      <td>Unknown Race</td>\n",
              "      <td>TN</td>\n",
              "      <td>Gunshot</td>\n",
              "      <td>Pending investigation</td>\n",
              "      <td>No known charges</td>\n",
              "      <td>No</td>\n",
              "      <td>Allegedly Armed</td>\n",
              "      <td>knife</td>\n",
              "      <td>other</td>\n",
              "      <td>not fleeing</td>\n",
              "      <td>yes</td>\n",
              "    </tr>\n",
              "    <tr>\n",
              "      <th>4</th>\n",
              "      <td>Male</td>\n",
              "      <td>Unknown Race</td>\n",
              "      <td>MT</td>\n",
              "      <td>Gunshot</td>\n",
              "      <td>Pending investigation</td>\n",
              "      <td>No known charges</td>\n",
              "      <td>No</td>\n",
              "      <td>Allegedly Armed</td>\n",
              "      <td>gun</td>\n",
              "      <td>attack</td>\n",
              "      <td>other</td>\n",
              "      <td>no</td>\n",
              "    </tr>\n",
              "    <tr>\n",
              "      <th>6</th>\n",
              "      <td>Male</td>\n",
              "      <td>Unknown Race</td>\n",
              "      <td>AZ</td>\n",
              "      <td>Gunshot</td>\n",
              "      <td>Pending investigation</td>\n",
              "      <td>No known charges</td>\n",
              "      <td>No</td>\n",
              "      <td>Allegedly Armed</td>\n",
              "      <td>gun</td>\n",
              "      <td>other</td>\n",
              "      <td>not fleeing</td>\n",
              "      <td>no</td>\n",
              "    </tr>\n",
              "    <tr>\n",
              "      <th>7</th>\n",
              "      <td>Male</td>\n",
              "      <td>Unknown Race</td>\n",
              "      <td>MA</td>\n",
              "      <td>Gunshot</td>\n",
              "      <td>Pending investigation</td>\n",
              "      <td>No known charges</td>\n",
              "      <td>No</td>\n",
              "      <td>Allegedly Armed</td>\n",
              "      <td>gun</td>\n",
              "      <td>other</td>\n",
              "      <td>not fleeing</td>\n",
              "      <td>no</td>\n",
              "    </tr>\n",
              "  </tbody>\n",
              "</table>\n",
              "</div>"
            ],
            "text/plain": [
              "  VictimsGender   VictimsRace State  ... AllegedThreatLevel      Fleeing BodyCam\n",
              "1          Male         White    CA  ...              other  not fleeing     yes\n",
              "2          Male  Unknown Race    TN  ...              other  not fleeing     yes\n",
              "4          Male  Unknown Race    MT  ...             attack        other      no\n",
              "6          Male  Unknown Race    AZ  ...              other  not fleeing      no\n",
              "7          Male  Unknown Race    MA  ...              other  not fleeing      no\n",
              "\n",
              "[5 rows x 12 columns]"
            ]
          },
          "metadata": {
            "tags": []
          },
          "execution_count": 7
        }
      ]
    },
    {
      "cell_type": "code",
      "metadata": {
        "id": "wpg96y5Qyk2G"
      },
      "source": [
        "from numpy import array\n",
        "from numpy import argmax\n",
        "from sklearn.preprocessing import LabelEncoder\n",
        "from sklearn.preprocessing import OneHotEncoder\n",
        "#creates a one-hot encoder function which returns a column of our dataframe one-hot encodeded as well as their categorical name (given input of the column) \n",
        "\n",
        "def one_hot_encode(data):\n",
        "  values = array(data)\n",
        "  label_encoder = LabelEncoder()\n",
        "  integer_encoded = label_encoder.fit_transform(values)\n",
        "  onehot_encoder = OneHotEncoder(sparse=False)\n",
        "  integer_encoded = integer_encoded.reshape(len(integer_encoded), 1)\n",
        "  onehot_encoded = onehot_encoder.fit_transform(integer_encoded)\n",
        "  shape = onehot_encoded.shape\n",
        "  inverted = []\n",
        "  for i in range(shape[-1]):\n",
        "      inverted.append(label_encoder.inverse_transform([i]))\n",
        "  return onehot_encoded, inverted\n",
        "\n"
      ],
      "execution_count": null,
      "outputs": []
    },
    {
      "cell_type": "code",
      "metadata": {
        "id": "4kO5buFyjNY2"
      },
      "source": [
        "# declares output array\n",
        "outputs = [[] for i in range(len(df))] "
      ],
      "execution_count": null,
      "outputs": []
    },
    {
      "cell_type": "code",
      "metadata": {
        "id": "s9fAav0-lUe5"
      },
      "source": [
        "#creates inputs [1,0] = African American Killing by Police, [0,1] = non African American Killing by Police\n",
        "races = df[\"VictimsRace\"] \n",
        "count = 0\n",
        "for race in races:\n",
        "  if(race == \"Black\"):\n",
        "    outputs[count].append(1)\n",
        "    outputs[count].append(0)\n",
        "  else:\n",
        "    outputs[count].append(0)\n",
        "    outputs[count].append(1)\n",
        "  count += 1\n",
        "df = df.drop(columns = \"VictimsRace\")"
      ],
      "execution_count": null,
      "outputs": []
    },
    {
      "cell_type": "code",
      "metadata": {
        "id": "ZGGoOl9r38cY"
      },
      "source": [
        "xOutputs = []\n",
        "for race in races:\n",
        "  if(race == \"Black\"):\n",
        "    xOutputs.append(1)\n",
        "  else:\n",
        "    xOutputs.append(0)"
      ],
      "execution_count": null,
      "outputs": []
    },
    {
      "cell_type": "code",
      "metadata": {
        "colab": {
          "base_uri": "https://localhost:8080/"
        },
        "id": "-BZRP40M4PgD",
        "outputId": "8527ec90-2954-4679-83ff-a5db39e99709"
      },
      "source": [
        "len(xOutputs)"
      ],
      "execution_count": null,
      "outputs": [
        {
          "output_type": "execute_result",
          "data": {
            "text/plain": [
              "5603"
            ]
          },
          "metadata": {
            "tags": []
          },
          "execution_count": 12
        }
      ]
    },
    {
      "cell_type": "code",
      "metadata": {
        "id": "OA81B_JJDqOs"
      },
      "source": [
        "# creates inputs by one-hot encoding individual dataframe columns\n",
        "# inverted is a list of categorical data which corresponds to each \"1\" in the one-hot encoding\n",
        "inputs = list()\n",
        "inverted = []\n",
        "for column in df: \n",
        "  check = array(df[column])\n",
        "  encodedArray = one_hot_encode(check)[0]\n",
        "  inverted.extend(one_hot_encode(check)[1])\n",
        "  inputs.append(encodedArray)\n",
        "inputs = np.hstack(inputs)\n"
      ],
      "execution_count": null,
      "outputs": []
    },
    {
      "cell_type": "code",
      "metadata": {
        "id": "U63hxFfxP4Sz"
      },
      "source": [
        "# code for undersampling\n",
        "#import random\n",
        "#temp = list(zip(inputs, outputs)) \n",
        "#random.shuffle(temp) \n",
        "#inputs, outputs = zip(*temp)"
      ],
      "execution_count": null,
      "outputs": []
    },
    {
      "cell_type": "code",
      "metadata": {
        "id": "0Wr6WJO_oHs8"
      },
      "source": [
        "#count = 0\n",
        "#countx = 0\n",
        "#for i in range(len(outputs)):\n",
        "#  if(outputs[i][0] == 1):\n",
        "#    count += 1\n",
        "#  if(outputs[i][0] == 0):\n",
        "#    countx += 1\n",
        "#check = 0\n",
        "#newInputs = []\n",
        "#newOutputs = []\n",
        "#inputs = list(inputs)\n",
        "#outputs = list(outputs)\n",
        "#for i in range(len(inputs) - 1):\n",
        "#  if(check < abs(count-countx)):\n",
        "#    if(outputs[i][1] == 0):\n",
        "#      newInputs.append(inputs[i])\n",
        "#      newOutputs.append(outputs[i])\n",
        "#    else:\n",
        "#      check += 1\n",
        "#  else:\n",
        "#    newInputs.append(inputs[i])\n",
        "#    newOutputs.append(outputs[i])"
      ],
      "execution_count": null,
      "outputs": []
    },
    {
      "cell_type": "code",
      "metadata": {
        "id": "BD6CN4ugVgZC"
      },
      "source": [
        "#import random\n",
        "#temp = list(zip(newInputs, newOutputs)) \n",
        "#random.shuffle(temp) \n",
        "#newInputs, newOutputs = zip(*temp)"
      ],
      "execution_count": null,
      "outputs": []
    },
    {
      "cell_type": "code",
      "metadata": {
        "colab": {
          "base_uri": "https://localhost:8080/"
        },
        "id": "B4ow2Pkv55BS",
        "outputId": "b96b70aa-9f76-473c-cef3-3d5dd673db29"
      },
      "source": [
        "len(inputs)\n"
      ],
      "execution_count": null,
      "outputs": [
        {
          "output_type": "execute_result",
          "data": {
            "text/plain": [
              "5603"
            ]
          },
          "metadata": {
            "tags": []
          },
          "execution_count": 17
        }
      ]
    },
    {
      "cell_type": "code",
      "metadata": {
        "colab": {
          "base_uri": "https://localhost:8080/"
        },
        "id": "gEQuel7b8rxi",
        "outputId": "1d1566be-05a4-4f03-b66f-afb8301dd721"
      },
      "source": [
        "len(xOutputs)"
      ],
      "execution_count": null,
      "outputs": [
        {
          "output_type": "execute_result",
          "data": {
            "text/plain": [
              "5603"
            ]
          },
          "metadata": {
            "tags": []
          },
          "execution_count": 18
        }
      ]
    },
    {
      "cell_type": "code",
      "metadata": {
        "colab": {
          "base_uri": "https://localhost:8080/"
        },
        "id": "y8pBrDMvsrUC",
        "outputId": "c2284148-9cc3-4a12-8600-72baa286a920"
      },
      "source": [
        "import imblearn\n",
        "from imblearn.over_sampling import RandomOverSampler\n",
        "from collections import Counter\n",
        "oversample = RandomOverSampler(sampling_strategy='minority')\n",
        "newInputs, newOutputs = oversample.fit_resample(inputs, xOutputs)\n",
        "# summarize class distribution\n",
        "print(Counter(newOutputs))"
      ],
      "execution_count": null,
      "outputs": [
        {
          "output_type": "stream",
          "text": [
            "/usr/local/lib/python3.7/dist-packages/sklearn/externals/six.py:31: FutureWarning: The module is deprecated in version 0.21 and will be removed in version 0.23 since we've dropped support for Python 2.7. Please rely on the official version of six (https://pypi.org/project/six/).\n",
            "  \"(https://pypi.org/project/six/).\", FutureWarning)\n"
          ],
          "name": "stderr"
        },
        {
          "output_type": "stream",
          "text": [
            "Counter({0: 4210, 1: 4210})\n"
          ],
          "name": "stdout"
        },
        {
          "output_type": "stream",
          "text": [
            "/usr/local/lib/python3.7/dist-packages/sklearn/utils/deprecation.py:144: FutureWarning: The sklearn.neighbors.base module is  deprecated in version 0.22 and will be removed in version 0.24. The corresponding classes / functions should instead be imported from sklearn.neighbors. Anything that cannot be imported from sklearn.neighbors is now part of the private API.\n",
            "  warnings.warn(message, FutureWarning)\n",
            "/usr/local/lib/python3.7/dist-packages/sklearn/utils/deprecation.py:87: FutureWarning: Function safe_indexing is deprecated; safe_indexing is deprecated in version 0.22 and will be removed in version 0.24.\n",
            "  warnings.warn(msg, category=FutureWarning)\n"
          ],
          "name": "stderr"
        }
      ]
    },
    {
      "cell_type": "code",
      "metadata": {
        "id": "iSVcz9Po5hpB"
      },
      "source": [
        "import random\n",
        "temp = list(zip(newInputs, newOutputs)) \n",
        "random.shuffle(temp) \n",
        "newInputs, newOutputs = zip(*temp)"
      ],
      "execution_count": null,
      "outputs": []
    },
    {
      "cell_type": "code",
      "metadata": {
        "id": "7L8uT9ecRtqq"
      },
      "source": [
        "# creates a train/test split of 80-20\n",
        "newOutputs = np.array(newOutputs)\n",
        "split = int(0.7*len(newInputs))\n",
        "X_train, X_test, y_train, y_test = newInputs[:split], newInputs[split:], newOutputs[:split], newOutputs[split:]\n",
        "X_train = np.expand_dims(X_train, axis = 2)\n",
        "X_test = np.expand_dims(X_test, axis = 2)"
      ],
      "execution_count": null,
      "outputs": []
    },
    {
      "cell_type": "code",
      "metadata": {
        "id": "Cd_IwUCMWY2I"
      },
      "source": [
        "import tensorflow as tf\n",
        "from tensorflow import keras\n",
        "from tensorflow.keras import layers\n",
        "from keras.models import Sequential\n",
        "from keras.layers import Dense, Dropout, BatchNormalization, LSTM, Flatten, Conv1D\n",
        "#earlystop = tf.keras.callbacks.EarlyStopping(monitor='val_loss', patience=7, restore_best_weights= True)\n",
        "model = Sequential()\n",
        "model.add(Flatten())\n",
        "model.add(Dense(2000, activation = 'relu'))\n",
        "model.add(Dropout(.3))\n",
        "model.add(Dense(200, activation = 'relu'))\n",
        "model.add(Dropout(.3))\n",
        "model.add(Dense(1, activation = 'relu'))\n",
        "model.compile(loss = \"MSE\", optimizer = \"Adam\", metrics=[\"accuracy\"])\n"
      ],
      "execution_count": null,
      "outputs": []
    },
    {
      "cell_type": "code",
      "metadata": {
        "id": "GPbiLnFIWpi-",
        "colab": {
          "base_uri": "https://localhost:8080/"
        },
        "outputId": "bc2331f6-4068-4dd8-e97b-0e0ced8be05f"
      },
      "source": [
        "# fits the model to the training data\n",
        "# it is extremely important to use class_weights as otherwise, the model only predicts one class (as 68% of the inputs are non-African American Killings)\n",
        "# this ensures that our model is fair and treats the individual accuracy of each class' classification the same\n",
        "model.fit(X_train, y_train,\n",
        "            batch_size=16,\n",
        "            epochs= 20,\n",
        "            validation_split = 0.2, \n",
        "            )"
      ],
      "execution_count": null,
      "outputs": [
        {
          "output_type": "stream",
          "text": [
            "Epoch 1/20\n",
            "295/295 [==============================] - 4s 11ms/step - loss: 0.2594 - accuracy: 0.5921 - val_loss: 0.2038 - val_accuracy: 0.6879\n",
            "Epoch 2/20\n",
            "295/295 [==============================] - 3s 10ms/step - loss: 0.2046 - accuracy: 0.6857 - val_loss: 0.2167 - val_accuracy: 0.6446\n",
            "Epoch 3/20\n",
            "295/295 [==============================] - 3s 10ms/step - loss: 0.1938 - accuracy: 0.7115 - val_loss: 0.1880 - val_accuracy: 0.7226\n",
            "Epoch 4/20\n",
            "295/295 [==============================] - 3s 9ms/step - loss: 0.1864 - accuracy: 0.7146 - val_loss: 0.2130 - val_accuracy: 0.6489\n",
            "Epoch 5/20\n",
            "295/295 [==============================] - 3s 10ms/step - loss: 0.1729 - accuracy: 0.7492 - val_loss: 0.1844 - val_accuracy: 0.7125\n",
            "Epoch 6/20\n",
            "295/295 [==============================] - 3s 10ms/step - loss: 0.1576 - accuracy: 0.7719 - val_loss: 0.1777 - val_accuracy: 0.7337\n",
            "Epoch 7/20\n",
            "295/295 [==============================] - 3s 10ms/step - loss: 0.1508 - accuracy: 0.7805 - val_loss: 0.1799 - val_accuracy: 0.7354\n",
            "Epoch 8/20\n",
            "295/295 [==============================] - 3s 9ms/step - loss: 0.1478 - accuracy: 0.7912 - val_loss: 0.1774 - val_accuracy: 0.7430\n",
            "Epoch 9/20\n",
            "295/295 [==============================] - 3s 10ms/step - loss: 0.1347 - accuracy: 0.8156 - val_loss: 0.1750 - val_accuracy: 0.7498\n",
            "Epoch 10/20\n",
            "295/295 [==============================] - 3s 10ms/step - loss: 0.1288 - accuracy: 0.8229 - val_loss: 0.1692 - val_accuracy: 0.7608\n",
            "Epoch 11/20\n",
            "295/295 [==============================] - 3s 10ms/step - loss: 0.1226 - accuracy: 0.8337 - val_loss: 0.1712 - val_accuracy: 0.7625\n",
            "Epoch 12/20\n",
            "295/295 [==============================] - 3s 10ms/step - loss: 0.1202 - accuracy: 0.8261 - val_loss: 0.1703 - val_accuracy: 0.7396\n",
            "Epoch 13/20\n",
            "295/295 [==============================] - 3s 10ms/step - loss: 0.1145 - accuracy: 0.8372 - val_loss: 0.1652 - val_accuracy: 0.7574\n",
            "Epoch 14/20\n",
            "295/295 [==============================] - 3s 10ms/step - loss: 0.1113 - accuracy: 0.8362 - val_loss: 0.1673 - val_accuracy: 0.7617\n",
            "Epoch 15/20\n",
            "295/295 [==============================] - 3s 10ms/step - loss: 0.1066 - accuracy: 0.8573 - val_loss: 0.1697 - val_accuracy: 0.7625\n",
            "Epoch 16/20\n",
            "295/295 [==============================] - 3s 10ms/step - loss: 0.1078 - accuracy: 0.8502 - val_loss: 0.1711 - val_accuracy: 0.7591\n",
            "Epoch 17/20\n",
            "295/295 [==============================] - 3s 10ms/step - loss: 0.1003 - accuracy: 0.8560 - val_loss: 0.1680 - val_accuracy: 0.7668\n",
            "Epoch 18/20\n",
            "295/295 [==============================] - 3s 10ms/step - loss: 0.1048 - accuracy: 0.8488 - val_loss: 0.1668 - val_accuracy: 0.7693\n",
            "Epoch 19/20\n",
            "295/295 [==============================] - 3s 10ms/step - loss: 0.0953 - accuracy: 0.8715 - val_loss: 0.1625 - val_accuracy: 0.7642\n",
            "Epoch 20/20\n",
            "295/295 [==============================] - 3s 10ms/step - loss: 0.1008 - accuracy: 0.8624 - val_loss: 0.1640 - val_accuracy: 0.7778\n"
          ],
          "name": "stdout"
        },
        {
          "output_type": "execute_result",
          "data": {
            "text/plain": [
              "<tensorflow.python.keras.callbacks.History at 0x7f1bc4b72f10>"
            ]
          },
          "metadata": {
            "tags": []
          },
          "execution_count": 23
        }
      ]
    },
    {
      "cell_type": "code",
      "metadata": {
        "colab": {
          "base_uri": "https://localhost:8080/"
        },
        "id": "0ABdCQr3A2on",
        "outputId": "1b154bb1-2aae-46d9-cac9-38de266ecdd1"
      },
      "source": [
        "model.summary()"
      ],
      "execution_count": null,
      "outputs": [
        {
          "output_type": "stream",
          "text": [
            "Model: \"sequential\"\n",
            "_________________________________________________________________\n",
            "Layer (type)                 Output Shape              Param #   \n",
            "=================================================================\n",
            "flatten (Flatten)            (None, 328)               0         \n",
            "_________________________________________________________________\n",
            "dense (Dense)                (None, 2000)              658000    \n",
            "_________________________________________________________________\n",
            "dropout (Dropout)            (None, 2000)              0         \n",
            "_________________________________________________________________\n",
            "dense_1 (Dense)              (None, 200)               400200    \n",
            "_________________________________________________________________\n",
            "dropout_1 (Dropout)          (None, 200)               0         \n",
            "_________________________________________________________________\n",
            "dense_2 (Dense)              (None, 1)                 201       \n",
            "=================================================================\n",
            "Total params: 1,058,401\n",
            "Trainable params: 1,058,401\n",
            "Non-trainable params: 0\n",
            "_________________________________________________________________\n"
          ],
          "name": "stdout"
        }
      ]
    },
    {
      "cell_type": "code",
      "metadata": {
        "colab": {
          "base_uri": "https://localhost:8080/"
        },
        "id": "7aK0fYTG636q",
        "outputId": "9697279c-7370-478a-cd77-10c6240e25d3"
      },
      "source": [
        "from sklearn.metrics import f1_score\n",
        "preds = model.predict(X_test)\n",
        "check = 0\n",
        "num_correct = 0\n",
        "for i in range(len(preds)):\n",
        "  if(preds[i] < 0.5):\n",
        "    preds[i] = 0\n",
        "  else:\n",
        "    preds[i] = 1      \n",
        "for i in range(len(preds)):\n",
        "  if(preds[i].round() == y_test[i]):\n",
        "    num_correct += 1\n",
        "print(\"The fraction of correctly classified examples in the test set is: \" + str(num_correct / len(preds)))\n",
        "f1_score(y_test, preds, average = None)"
      ],
      "execution_count": null,
      "outputs": [
        {
          "output_type": "stream",
          "text": [
            "The fraction of correctly classified examples in the test set is: 0.7640538400633412\n"
          ],
          "name": "stdout"
        },
        {
          "output_type": "execute_result",
          "data": {
            "text/plain": [
              "array([0.7399651 , 0.78405797])"
            ]
          },
          "metadata": {
            "tags": []
          },
          "execution_count": 25
        }
      ]
    },
    {
      "cell_type": "code",
      "metadata": {
        "id": "2iNPLOItSC6L"
      },
      "source": [
        "# creates a train/test split of 80-20\n",
        "newOutputs = np.array(newOutputs)\n",
        "split = int(0.8*len(newInputs))\n",
        "X_train, X_test, y_train, y_test = newInputs[:split], newInputs[split:], newOutputs[:split], newOutputs[split:]"
      ],
      "execution_count": null,
      "outputs": []
    },
    {
      "cell_type": "code",
      "metadata": {
        "id": "giqWzY0cGaFM",
        "colab": {
          "base_uri": "https://localhost:8080/"
        },
        "outputId": "a0464975-2d07-490a-a409-87e489662869"
      },
      "source": [
        "from sklearn.tree import DecisionTreeClassifier\n",
        "from sklearn.model_selection import cross_val_score\n",
        "from sklearn import tree\n",
        "from sklearn.metrics import f1_score\n",
        "model = tree.DecisionTreeClassifier(max_depth= 5000)\n",
        "model.fit(X_train, y_train)\n",
        "preds = model.predict(X_test)\n",
        "check = 0\n",
        "num_correct = 0\n",
        "for i in range(len(preds)):\n",
        "  if(preds[i] < 0.5):\n",
        "    preds[i] = 0\n",
        "  else:\n",
        "    preds[i] == 1\n",
        "for i in range(len(preds)):\n",
        "  if(preds[i].round() == y_test[i]):\n",
        "    num_correct += 1\n",
        "print(\"The fraction of correctly classified examples in the test set is: \" + str(num_correct / len(preds)))\n",
        "f1_score(y_test, preds, average = None)"
      ],
      "execution_count": null,
      "outputs": [
        {
          "output_type": "stream",
          "text": [
            "The fraction of correctly classified examples in the test set is: 0.7802850356294537\n"
          ],
          "name": "stdout"
        },
        {
          "output_type": "execute_result",
          "data": {
            "text/plain": [
              "array([0.75880052, 0.79825518])"
            ]
          },
          "metadata": {
            "tags": []
          },
          "execution_count": 27
        }
      ]
    },
    {
      "cell_type": "code",
      "metadata": {
        "colab": {
          "base_uri": "https://localhost:8080/"
        },
        "id": "7vw0_CE_VAJM",
        "outputId": "495b7ab1-fd86-4931-a2c8-cfffa20497fa"
      },
      "source": [
        "from sklearn.ensemble import RandomForestClassifier\n",
        "from sklearn.metrics import f1_score\n",
        "model = RandomForestClassifier(300)\n",
        "model.fit(X_train, y_train)\n",
        "preds = model.predict(X_test)\n",
        "check = 0\n",
        "num_correct = 0\n",
        "for i in range(len(preds)):\n",
        "  if(preds[i] < 0.5):\n",
        "    preds[i] = 0\n",
        "  else:\n",
        "    preds[i] == 1\n",
        "for i in range(len(preds)):\n",
        "  if(preds[i].round() == y_test[i]):\n",
        "    num_correct += 1\n",
        "print(\"The fraction of correctly classified examples in the test set is: \" + str(num_correct / len(preds)))\n",
        "f1_score(y_test, preds, average = None)"
      ],
      "execution_count": null,
      "outputs": [
        {
          "output_type": "stream",
          "text": [
            "The fraction of correctly classified examples in the test set is: 0.8117577197149644\n"
          ],
          "name": "stdout"
        },
        {
          "output_type": "execute_result",
          "data": {
            "text/plain": [
              "array([0.79614148, 0.82515168])"
            ]
          },
          "metadata": {
            "tags": []
          },
          "execution_count": 28
        }
      ]
    },
    {
      "cell_type": "code",
      "metadata": {
        "colab": {
          "base_uri": "https://localhost:8080/",
          "height": 777
        },
        "id": "jruG2hd3sDV1",
        "outputId": "1639838a-679a-4be7-86db-097bbf58a1b3"
      },
      "source": [
        "import graphviz\n",
        "model = tree.DecisionTreeClassifier(max_depth= 4)\n",
        "model.fit(X_train, y_train)\n",
        "dot_data = tree.export_graphviz(model, out_file=None, \n",
        "                                feature_names=inverted,  \n",
        "                                class_names= [\"AA\", \"nonAA\"],\n",
        "                                filled=True)\n",
        "graph = graphviz.Source(dot_data, format=\"png\") \n",
        "graph"
      ],
      "execution_count": null,
      "outputs": [
        {
          "output_type": "execute_result",
          "data": {
            "text/plain": [
              "<graphviz.files.Source at 0x7f1bbca1bf50>"
            ],
            "image/svg+xml": "<?xml version=\"1.0\" encoding=\"UTF-8\" standalone=\"no\"?>\n<!DOCTYPE svg PUBLIC \"-//W3C//DTD SVG 1.1//EN\"\n \"http://www.w3.org/Graphics/SVG/1.1/DTD/svg11.dtd\">\n<!-- Generated by graphviz version 2.40.1 (20161225.0304)\n -->\n<!-- Title: Tree Pages: 1 -->\n<svg width=\"1806pt\" height=\"552pt\"\n viewBox=\"0.00 0.00 1805.50 552.00\" xmlns=\"http://www.w3.org/2000/svg\" xmlns:xlink=\"http://www.w3.org/1999/xlink\">\n<g id=\"graph0\" class=\"graph\" transform=\"scale(1 1) rotate(0) translate(4 548)\">\n<title>Tree</title>\n<polygon fill=\"#ffffff\" stroke=\"transparent\" points=\"-4,4 -4,-548 1801.5,-548 1801.5,4 -4,4\"/>\n<!-- 0 -->\n<g id=\"node1\" class=\"node\">\n<title>0</title>\n<polygon fill=\"#fffefd\" stroke=\"#000000\" points=\"1021,-544 881,-544 881,-461 1021,-461 1021,-544\"/>\n<text text-anchor=\"middle\" x=\"951\" y=\"-528.8\" font-family=\"Times,serif\" font-size=\"14.00\" fill=\"#000000\">[&#39;Yes&#39;] &lt;= 0.5</text>\n<text text-anchor=\"middle\" x=\"951\" y=\"-513.8\" font-family=\"Times,serif\" font-size=\"14.00\" fill=\"#000000\">gini = 0.5</text>\n<text text-anchor=\"middle\" x=\"951\" y=\"-498.8\" font-family=\"Times,serif\" font-size=\"14.00\" fill=\"#000000\">samples = 6736</text>\n<text text-anchor=\"middle\" x=\"951\" y=\"-483.8\" font-family=\"Times,serif\" font-size=\"14.00\" fill=\"#000000\">value = [3382, 3354]</text>\n<text text-anchor=\"middle\" x=\"951\" y=\"-468.8\" font-family=\"Times,serif\" font-size=\"14.00\" fill=\"#000000\">class = AA</text>\n</g>\n<!-- 1 -->\n<g id=\"node2\" class=\"node\">\n<title>1</title>\n<polygon fill=\"#e9f4fc\" stroke=\"#000000\" points=\"839,-425 699,-425 699,-342 839,-342 839,-425\"/>\n<text text-anchor=\"middle\" x=\"769\" y=\"-409.8\" font-family=\"Times,serif\" font-size=\"14.00\" fill=\"#000000\">[&#39;AZ&#39;] &lt;= 0.5</text>\n<text text-anchor=\"middle\" x=\"769\" y=\"-394.8\" font-family=\"Times,serif\" font-size=\"14.00\" fill=\"#000000\">gini = 0.498</text>\n<text text-anchor=\"middle\" x=\"769\" y=\"-379.8\" font-family=\"Times,serif\" font-size=\"14.00\" fill=\"#000000\">samples = 5447</text>\n<text text-anchor=\"middle\" x=\"769\" y=\"-364.8\" font-family=\"Times,serif\" font-size=\"14.00\" fill=\"#000000\">value = [2563, 2884]</text>\n<text text-anchor=\"middle\" x=\"769\" y=\"-349.8\" font-family=\"Times,serif\" font-size=\"14.00\" fill=\"#000000\">class = nonAA</text>\n</g>\n<!-- 0&#45;&gt;1 -->\n<g id=\"edge1\" class=\"edge\">\n<title>0&#45;&gt;1</title>\n<path fill=\"none\" stroke=\"#000000\" d=\"M887.3452,-460.8796C872.3824,-451.0962 856.3323,-440.6019 841.0309,-430.5971\"/>\n<polygon fill=\"#000000\" stroke=\"#000000\" points=\"842.9039,-427.6401 832.6188,-425.0969 839.0731,-433.4989 842.9039,-427.6401\"/>\n<text text-anchor=\"middle\" x=\"837.7404\" y=\"-445.8667\" font-family=\"Times,serif\" font-size=\"14.00\" fill=\"#000000\">True</text>\n</g>\n<!-- 16 -->\n<g id=\"node17\" class=\"node\">\n<title>16</title>\n<polygon fill=\"#f4c9ab\" stroke=\"#000000\" points=\"1275,-425 1149,-425 1149,-342 1275,-342 1275,-425\"/>\n<text text-anchor=\"middle\" x=\"1212\" y=\"-409.8\" font-family=\"Times,serif\" font-size=\"14.00\" fill=\"#000000\">[&#39;no object&#39;] &lt;= 0.5</text>\n<text text-anchor=\"middle\" x=\"1212\" y=\"-394.8\" font-family=\"Times,serif\" font-size=\"14.00\" fill=\"#000000\">gini = 0.463</text>\n<text text-anchor=\"middle\" x=\"1212\" y=\"-379.8\" font-family=\"Times,serif\" font-size=\"14.00\" fill=\"#000000\">samples = 1289</text>\n<text text-anchor=\"middle\" x=\"1212\" y=\"-364.8\" font-family=\"Times,serif\" font-size=\"14.00\" fill=\"#000000\">value = [819, 470]</text>\n<text text-anchor=\"middle\" x=\"1212\" y=\"-349.8\" font-family=\"Times,serif\" font-size=\"14.00\" fill=\"#000000\">class = AA</text>\n</g>\n<!-- 0&#45;&gt;16 -->\n<g id=\"edge16\" class=\"edge\">\n<title>0&#45;&gt;16</title>\n<path fill=\"none\" stroke=\"#000000\" d=\"M1021.2865,-470.4536C1057.8933,-453.7632 1102.5963,-433.3814 1139.5189,-416.5469\"/>\n<polygon fill=\"#000000\" stroke=\"#000000\" points=\"1141.0819,-419.681 1148.7288,-412.3478 1138.1779,-413.3118 1141.0819,-419.681\"/>\n<text text-anchor=\"middle\" x=\"1139.9777\" y=\"-432.0661\" font-family=\"Times,serif\" font-size=\"14.00\" fill=\"#000000\">False</text>\n</g>\n<!-- 2 -->\n<g id=\"node3\" class=\"node\">\n<title>2</title>\n<polygon fill=\"#e1f0fb\" stroke=\"#000000\" points=\"498,-306 358,-306 358,-223 498,-223 498,-306\"/>\n<text text-anchor=\"middle\" x=\"428\" y=\"-290.8\" font-family=\"Times,serif\" font-size=\"14.00\" fill=\"#000000\">[&#39;NM&#39;] &lt;= 0.5</text>\n<text text-anchor=\"middle\" x=\"428\" y=\"-275.8\" font-family=\"Times,serif\" font-size=\"14.00\" fill=\"#000000\">gini = 0.497</text>\n<text text-anchor=\"middle\" x=\"428\" y=\"-260.8\" font-family=\"Times,serif\" font-size=\"14.00\" fill=\"#000000\">samples = 5244</text>\n<text text-anchor=\"middle\" x=\"428\" y=\"-245.8\" font-family=\"Times,serif\" font-size=\"14.00\" fill=\"#000000\">value = [2404, 2840]</text>\n<text text-anchor=\"middle\" x=\"428\" y=\"-230.8\" font-family=\"Times,serif\" font-size=\"14.00\" fill=\"#000000\">class = nonAA</text>\n</g>\n<!-- 1&#45;&gt;2 -->\n<g id=\"edge2\" class=\"edge\">\n<title>1&#45;&gt;2</title>\n<path fill=\"none\" stroke=\"#000000\" d=\"M698.758,-358.9874C643.1676,-339.5878 565.5237,-312.4922 507.629,-292.2884\"/>\n<polygon fill=\"#000000\" stroke=\"#000000\" points=\"508.7456,-288.9712 498.1508,-288.9808 506.4392,-295.5803 508.7456,-288.9712\"/>\n</g>\n<!-- 9 -->\n<g id=\"node10\" class=\"node\">\n<title>9</title>\n<polygon fill=\"#eca470\" stroke=\"#000000\" points=\"827.5,-306 710.5,-306 710.5,-223 827.5,-223 827.5,-306\"/>\n<text text-anchor=\"middle\" x=\"769\" y=\"-290.8\" font-family=\"Times,serif\" font-size=\"14.00\" fill=\"#000000\">[&#39;Taser&#39;] &lt;= 0.5</text>\n<text text-anchor=\"middle\" x=\"769\" y=\"-275.8\" font-family=\"Times,serif\" font-size=\"14.00\" fill=\"#000000\">gini = 0.34</text>\n<text text-anchor=\"middle\" x=\"769\" y=\"-260.8\" font-family=\"Times,serif\" font-size=\"14.00\" fill=\"#000000\">samples = 203</text>\n<text text-anchor=\"middle\" x=\"769\" y=\"-245.8\" font-family=\"Times,serif\" font-size=\"14.00\" fill=\"#000000\">value = [159, 44]</text>\n<text text-anchor=\"middle\" x=\"769\" y=\"-230.8\" font-family=\"Times,serif\" font-size=\"14.00\" fill=\"#000000\">class = AA</text>\n</g>\n<!-- 1&#45;&gt;9 -->\n<g id=\"edge9\" class=\"edge\">\n<title>1&#45;&gt;9</title>\n<path fill=\"none\" stroke=\"#000000\" d=\"M769,-341.8796C769,-333.6838 769,-324.9891 769,-316.5013\"/>\n<polygon fill=\"#000000\" stroke=\"#000000\" points=\"772.5001,-316.298 769,-306.2981 765.5001,-316.2981 772.5001,-316.298\"/>\n</g>\n<!-- 3 -->\n<g id=\"node4\" class=\"node\">\n<title>3</title>\n<polygon fill=\"#dceefa\" stroke=\"#000000\" points=\"291,-187 151,-187 151,-104 291,-104 291,-187\"/>\n<text text-anchor=\"middle\" x=\"221\" y=\"-171.8\" font-family=\"Times,serif\" font-size=\"14.00\" fill=\"#000000\">[&#39;CA&#39;] &lt;= 0.5</text>\n<text text-anchor=\"middle\" x=\"221\" y=\"-156.8\" font-family=\"Times,serif\" font-size=\"14.00\" fill=\"#000000\">gini = 0.495</text>\n<text text-anchor=\"middle\" x=\"221\" y=\"-141.8\" font-family=\"Times,serif\" font-size=\"14.00\" fill=\"#000000\">samples = 5176</text>\n<text text-anchor=\"middle\" x=\"221\" y=\"-126.8\" font-family=\"Times,serif\" font-size=\"14.00\" fill=\"#000000\">value = [2338, 2838]</text>\n<text text-anchor=\"middle\" x=\"221\" y=\"-111.8\" font-family=\"Times,serif\" font-size=\"14.00\" fill=\"#000000\">class = nonAA</text>\n</g>\n<!-- 2&#45;&gt;3 -->\n<g id=\"edge3\" class=\"edge\">\n<title>2&#45;&gt;3</title>\n<path fill=\"none\" stroke=\"#000000\" d=\"M357.9192,-224.212C339.2042,-213.4531 318.8561,-201.7554 299.7104,-190.749\"/>\n<polygon fill=\"#000000\" stroke=\"#000000\" points=\"301.4225,-187.6961 291.0086,-185.7465 297.9337,-193.7648 301.4225,-187.6961\"/>\n</g>\n<!-- 6 -->\n<g id=\"node7\" class=\"node\">\n<title>6</title>\n<polygon fill=\"#e6853f\" stroke=\"#000000\" points=\"504,-187 352,-187 352,-104 504,-104 504,-187\"/>\n<text text-anchor=\"middle\" x=\"428\" y=\"-171.8\" font-family=\"Times,serif\" font-size=\"14.00\" fill=\"#000000\">[&#39;undetermined&#39;] &lt;= 0.5</text>\n<text text-anchor=\"middle\" x=\"428\" y=\"-156.8\" font-family=\"Times,serif\" font-size=\"14.00\" fill=\"#000000\">gini = 0.057</text>\n<text text-anchor=\"middle\" x=\"428\" y=\"-141.8\" font-family=\"Times,serif\" font-size=\"14.00\" fill=\"#000000\">samples = 68</text>\n<text text-anchor=\"middle\" x=\"428\" y=\"-126.8\" font-family=\"Times,serif\" font-size=\"14.00\" fill=\"#000000\">value = [66, 2]</text>\n<text text-anchor=\"middle\" x=\"428\" y=\"-111.8\" font-family=\"Times,serif\" font-size=\"14.00\" fill=\"#000000\">class = AA</text>\n</g>\n<!-- 2&#45;&gt;6 -->\n<g id=\"edge6\" class=\"edge\">\n<title>2&#45;&gt;6</title>\n<path fill=\"none\" stroke=\"#000000\" d=\"M428,-222.8796C428,-214.6838 428,-205.9891 428,-197.5013\"/>\n<polygon fill=\"#000000\" stroke=\"#000000\" points=\"431.5001,-197.298 428,-187.2981 424.5001,-197.2981 431.5001,-197.298\"/>\n</g>\n<!-- 4 -->\n<g id=\"node5\" class=\"node\">\n<title>4</title>\n<polygon fill=\"#cde6f8\" stroke=\"#000000\" points=\"140,-68 0,-68 0,0 140,0 140,-68\"/>\n<text text-anchor=\"middle\" x=\"70\" y=\"-52.8\" font-family=\"Times,serif\" font-size=\"14.00\" fill=\"#000000\">gini = 0.49</text>\n<text text-anchor=\"middle\" x=\"70\" y=\"-37.8\" font-family=\"Times,serif\" font-size=\"14.00\" fill=\"#000000\">samples = 4474</text>\n<text text-anchor=\"middle\" x=\"70\" y=\"-22.8\" font-family=\"Times,serif\" font-size=\"14.00\" fill=\"#000000\">value = [1915, 2559]</text>\n<text text-anchor=\"middle\" x=\"70\" y=\"-7.8\" font-family=\"Times,serif\" font-size=\"14.00\" fill=\"#000000\">class = nonAA</text>\n</g>\n<!-- 3&#45;&gt;4 -->\n<g id=\"edge4\" class=\"edge\">\n<title>3&#45;&gt;4</title>\n<path fill=\"none\" stroke=\"#000000\" d=\"M164.7732,-103.9815C151.7043,-94.3313 137.8097,-84.0714 124.8032,-74.4673\"/>\n<polygon fill=\"#000000\" stroke=\"#000000\" points=\"126.5255,-71.3883 116.4019,-68.2637 122.3674,-77.0195 126.5255,-71.3883\"/>\n</g>\n<!-- 5 -->\n<g id=\"node6\" class=\"node\">\n<title>5</title>\n<polygon fill=\"#f6d4bc\" stroke=\"#000000\" points=\"283.5,-68 158.5,-68 158.5,0 283.5,0 283.5,-68\"/>\n<text text-anchor=\"middle\" x=\"221\" y=\"-52.8\" font-family=\"Times,serif\" font-size=\"14.00\" fill=\"#000000\">gini = 0.479</text>\n<text text-anchor=\"middle\" x=\"221\" y=\"-37.8\" font-family=\"Times,serif\" font-size=\"14.00\" fill=\"#000000\">samples = 702</text>\n<text text-anchor=\"middle\" x=\"221\" y=\"-22.8\" font-family=\"Times,serif\" font-size=\"14.00\" fill=\"#000000\">value = [423, 279]</text>\n<text text-anchor=\"middle\" x=\"221\" y=\"-7.8\" font-family=\"Times,serif\" font-size=\"14.00\" fill=\"#000000\">class = AA</text>\n</g>\n<!-- 3&#45;&gt;5 -->\n<g id=\"edge5\" class=\"edge\">\n<title>3&#45;&gt;5</title>\n<path fill=\"none\" stroke=\"#000000\" d=\"M221,-103.9815C221,-95.618 221,-86.7965 221,-78.3409\"/>\n<polygon fill=\"#000000\" stroke=\"#000000\" points=\"224.5001,-78.2636 221,-68.2637 217.5001,-78.2637 224.5001,-78.2636\"/>\n</g>\n<!-- 7 -->\n<g id=\"node8\" class=\"node\">\n<title>7</title>\n<polygon fill=\"#e58139\" stroke=\"#000000\" points=\"404,-68 302,-68 302,0 404,0 404,-68\"/>\n<text text-anchor=\"middle\" x=\"353\" y=\"-52.8\" font-family=\"Times,serif\" font-size=\"14.00\" fill=\"#000000\">gini = 0.0</text>\n<text text-anchor=\"middle\" x=\"353\" y=\"-37.8\" font-family=\"Times,serif\" font-size=\"14.00\" fill=\"#000000\">samples = 62</text>\n<text text-anchor=\"middle\" x=\"353\" y=\"-22.8\" font-family=\"Times,serif\" font-size=\"14.00\" fill=\"#000000\">value = [62, 0]</text>\n<text text-anchor=\"middle\" x=\"353\" y=\"-7.8\" font-family=\"Times,serif\" font-size=\"14.00\" fill=\"#000000\">class = AA</text>\n</g>\n<!-- 6&#45;&gt;7 -->\n<g id=\"edge7\" class=\"edge\">\n<title>6&#45;&gt;7</title>\n<path fill=\"none\" stroke=\"#000000\" d=\"M400.0728,-103.9815C394.0762,-95.0666 387.7296,-85.6313 381.7041,-76.6734\"/>\n<polygon fill=\"#000000\" stroke=\"#000000\" points=\"384.5328,-74.6078 376.0473,-68.2637 378.7245,-78.5147 384.5328,-74.6078\"/>\n</g>\n<!-- 8 -->\n<g id=\"node9\" class=\"node\">\n<title>8</title>\n<polygon fill=\"#f2c09c\" stroke=\"#000000\" points=\"517.5,-68 422.5,-68 422.5,0 517.5,0 517.5,-68\"/>\n<text text-anchor=\"middle\" x=\"470\" y=\"-52.8\" font-family=\"Times,serif\" font-size=\"14.00\" fill=\"#000000\">gini = 0.444</text>\n<text text-anchor=\"middle\" x=\"470\" y=\"-37.8\" font-family=\"Times,serif\" font-size=\"14.00\" fill=\"#000000\">samples = 6</text>\n<text text-anchor=\"middle\" x=\"470\" y=\"-22.8\" font-family=\"Times,serif\" font-size=\"14.00\" fill=\"#000000\">value = [4, 2]</text>\n<text text-anchor=\"middle\" x=\"470\" y=\"-7.8\" font-family=\"Times,serif\" font-size=\"14.00\" fill=\"#000000\">class = AA</text>\n</g>\n<!-- 6&#45;&gt;8 -->\n<g id=\"edge8\" class=\"edge\">\n<title>6&#45;&gt;8</title>\n<path fill=\"none\" stroke=\"#000000\" d=\"M443.6392,-103.9815C446.8589,-95.4342 450.2587,-86.4086 453.5074,-77.7839\"/>\n<polygon fill=\"#000000\" stroke=\"#000000\" points=\"456.8438,-78.8556 457.0935,-68.2637 450.2931,-76.388 456.8438,-78.8556\"/>\n</g>\n<!-- 10 -->\n<g id=\"node11\" class=\"node\">\n<title>10</title>\n<polygon fill=\"#eb9f69\" stroke=\"#000000\" points=\"756,-187 634,-187 634,-104 756,-104 756,-187\"/>\n<text text-anchor=\"middle\" x=\"695\" y=\"-171.8\" font-family=\"Times,serif\" font-size=\"14.00\" fill=\"#000000\">[&#39;Gunshot&#39;] &lt;= 0.5</text>\n<text text-anchor=\"middle\" x=\"695\" y=\"-156.8\" font-family=\"Times,serif\" font-size=\"14.00\" fill=\"#000000\">gini = 0.313</text>\n<text text-anchor=\"middle\" x=\"695\" y=\"-141.8\" font-family=\"Times,serif\" font-size=\"14.00\" fill=\"#000000\">samples = 196</text>\n<text text-anchor=\"middle\" x=\"695\" y=\"-126.8\" font-family=\"Times,serif\" font-size=\"14.00\" fill=\"#000000\">value = [158, 38]</text>\n<text text-anchor=\"middle\" x=\"695\" y=\"-111.8\" font-family=\"Times,serif\" font-size=\"14.00\" fill=\"#000000\">class = AA</text>\n</g>\n<!-- 9&#45;&gt;10 -->\n<g id=\"edge10\" class=\"edge\">\n<title>9&#45;&gt;10</title>\n<path fill=\"none\" stroke=\"#000000\" d=\"M743.1184,-222.8796C737.6858,-214.1434 731.9008,-204.8404 726.2947,-195.8253\"/>\n<polygon fill=\"#000000\" stroke=\"#000000\" points=\"729.2451,-193.9418 720.9921,-187.2981 723.3007,-197.6383 729.2451,-193.9418\"/>\n</g>\n<!-- 13 -->\n<g id=\"node14\" class=\"node\">\n<title>13</title>\n<polygon fill=\"#5aade9\" stroke=\"#000000\" points=\"911.5,-187 774.5,-187 774.5,-104 911.5,-104 911.5,-187\"/>\n<text text-anchor=\"middle\" x=\"843\" y=\"-171.8\" font-family=\"Times,serif\" font-size=\"14.00\" fill=\"#000000\">[&#39;Not fleeing&#39;] &lt;= 0.5</text>\n<text text-anchor=\"middle\" x=\"843\" y=\"-156.8\" font-family=\"Times,serif\" font-size=\"14.00\" fill=\"#000000\">gini = 0.245</text>\n<text text-anchor=\"middle\" x=\"843\" y=\"-141.8\" font-family=\"Times,serif\" font-size=\"14.00\" fill=\"#000000\">samples = 7</text>\n<text text-anchor=\"middle\" x=\"843\" y=\"-126.8\" font-family=\"Times,serif\" font-size=\"14.00\" fill=\"#000000\">value = [1, 6]</text>\n<text text-anchor=\"middle\" x=\"843\" y=\"-111.8\" font-family=\"Times,serif\" font-size=\"14.00\" fill=\"#000000\">class = nonAA</text>\n</g>\n<!-- 9&#45;&gt;13 -->\n<g id=\"edge13\" class=\"edge\">\n<title>9&#45;&gt;13</title>\n<path fill=\"none\" stroke=\"#000000\" d=\"M794.8816,-222.8796C800.3142,-214.1434 806.0992,-204.8404 811.7053,-195.8253\"/>\n<polygon fill=\"#000000\" stroke=\"#000000\" points=\"814.6993,-197.6383 817.0079,-187.2981 808.7549,-193.9418 814.6993,-197.6383\"/>\n</g>\n<!-- 11 -->\n<g id=\"node12\" class=\"node\">\n<title>11</title>\n<polygon fill=\"#ffffff\" stroke=\"#000000\" points=\"630.5,-68 535.5,-68 535.5,0 630.5,0 630.5,-68\"/>\n<text text-anchor=\"middle\" x=\"583\" y=\"-52.8\" font-family=\"Times,serif\" font-size=\"14.00\" fill=\"#000000\">gini = 0.5</text>\n<text text-anchor=\"middle\" x=\"583\" y=\"-37.8\" font-family=\"Times,serif\" font-size=\"14.00\" fill=\"#000000\">samples = 14</text>\n<text text-anchor=\"middle\" x=\"583\" y=\"-22.8\" font-family=\"Times,serif\" font-size=\"14.00\" fill=\"#000000\">value = [7, 7]</text>\n<text text-anchor=\"middle\" x=\"583\" y=\"-7.8\" font-family=\"Times,serif\" font-size=\"14.00\" fill=\"#000000\">class = AA</text>\n</g>\n<!-- 10&#45;&gt;11 -->\n<g id=\"edge11\" class=\"edge\">\n<title>10&#45;&gt;11</title>\n<path fill=\"none\" stroke=\"#000000\" d=\"M653.2953,-103.9815C643.9711,-94.6989 634.0803,-84.8522 624.7541,-75.5677\"/>\n<polygon fill=\"#000000\" stroke=\"#000000\" points=\"626.9736,-72.8385 617.4173,-68.2637 622.0349,-77.7993 626.9736,-72.8385\"/>\n</g>\n<!-- 12 -->\n<g id=\"node13\" class=\"node\">\n<title>12</title>\n<polygon fill=\"#ea9b62\" stroke=\"#000000\" points=\"765.5,-68 648.5,-68 648.5,0 765.5,0 765.5,-68\"/>\n<text text-anchor=\"middle\" x=\"707\" y=\"-52.8\" font-family=\"Times,serif\" font-size=\"14.00\" fill=\"#000000\">gini = 0.283</text>\n<text text-anchor=\"middle\" x=\"707\" y=\"-37.8\" font-family=\"Times,serif\" font-size=\"14.00\" fill=\"#000000\">samples = 182</text>\n<text text-anchor=\"middle\" x=\"707\" y=\"-22.8\" font-family=\"Times,serif\" font-size=\"14.00\" fill=\"#000000\">value = [151, 31]</text>\n<text text-anchor=\"middle\" x=\"707\" y=\"-7.8\" font-family=\"Times,serif\" font-size=\"14.00\" fill=\"#000000\">class = AA</text>\n</g>\n<!-- 10&#45;&gt;12 -->\n<g id=\"edge12\" class=\"edge\">\n<title>10&#45;&gt;12</title>\n<path fill=\"none\" stroke=\"#000000\" d=\"M699.4684,-103.9815C700.3685,-95.618 701.3179,-86.7965 702.2279,-78.3409\"/>\n<polygon fill=\"#000000\" stroke=\"#000000\" points=\"705.7222,-78.5808 703.3124,-68.2637 698.7624,-77.8317 705.7222,-78.5808\"/>\n</g>\n<!-- 14 -->\n<g id=\"node15\" class=\"node\">\n<title>14</title>\n<polygon fill=\"#e58139\" stroke=\"#000000\" points=\"878.5,-68 783.5,-68 783.5,0 878.5,0 878.5,-68\"/>\n<text text-anchor=\"middle\" x=\"831\" y=\"-52.8\" font-family=\"Times,serif\" font-size=\"14.00\" fill=\"#000000\">gini = 0.0</text>\n<text text-anchor=\"middle\" x=\"831\" y=\"-37.8\" font-family=\"Times,serif\" font-size=\"14.00\" fill=\"#000000\">samples = 1</text>\n<text text-anchor=\"middle\" x=\"831\" y=\"-22.8\" font-family=\"Times,serif\" font-size=\"14.00\" fill=\"#000000\">value = [1, 0]</text>\n<text text-anchor=\"middle\" x=\"831\" y=\"-7.8\" font-family=\"Times,serif\" font-size=\"14.00\" fill=\"#000000\">class = AA</text>\n</g>\n<!-- 13&#45;&gt;14 -->\n<g id=\"edge14\" class=\"edge\">\n<title>13&#45;&gt;14</title>\n<path fill=\"none\" stroke=\"#000000\" d=\"M838.5316,-103.9815C837.6315,-95.618 836.6821,-86.7965 835.7721,-78.3409\"/>\n<polygon fill=\"#000000\" stroke=\"#000000\" points=\"839.2376,-77.8317 834.6876,-68.2637 832.2778,-78.5808 839.2376,-77.8317\"/>\n</g>\n<!-- 15 -->\n<g id=\"node16\" class=\"node\">\n<title>15</title>\n<polygon fill=\"#399de5\" stroke=\"#000000\" points=\"999,-68 897,-68 897,0 999,0 999,-68\"/>\n<text text-anchor=\"middle\" x=\"948\" y=\"-52.8\" font-family=\"Times,serif\" font-size=\"14.00\" fill=\"#000000\">gini = 0.0</text>\n<text text-anchor=\"middle\" x=\"948\" y=\"-37.8\" font-family=\"Times,serif\" font-size=\"14.00\" fill=\"#000000\">samples = 6</text>\n<text text-anchor=\"middle\" x=\"948\" y=\"-22.8\" font-family=\"Times,serif\" font-size=\"14.00\" fill=\"#000000\">value = [0, 6]</text>\n<text text-anchor=\"middle\" x=\"948\" y=\"-7.8\" font-family=\"Times,serif\" font-size=\"14.00\" fill=\"#000000\">class = nonAA</text>\n</g>\n<!-- 13&#45;&gt;15 -->\n<g id=\"edge15\" class=\"edge\">\n<title>13&#45;&gt;15</title>\n<path fill=\"none\" stroke=\"#000000\" d=\"M882.0981,-103.9815C890.8396,-94.6989 900.1122,-84.8522 908.8556,-75.5677\"/>\n<polygon fill=\"#000000\" stroke=\"#000000\" points=\"911.4261,-77.9433 915.7338,-68.2637 906.33,-73.1443 911.4261,-77.9433\"/>\n</g>\n<!-- 17 -->\n<g id=\"node18\" class=\"node\">\n<title>17</title>\n<polygon fill=\"#f3c3a0\" stroke=\"#000000\" points=\"1274.5,-306 1149.5,-306 1149.5,-223 1274.5,-223 1274.5,-306\"/>\n<text text-anchor=\"middle\" x=\"1212\" y=\"-290.8\" font-family=\"Times,serif\" font-size=\"14.00\" fill=\"#000000\">[&#39;Gunshot&#39;] &lt;= 0.5</text>\n<text text-anchor=\"middle\" x=\"1212\" y=\"-275.8\" font-family=\"Times,serif\" font-size=\"14.00\" fill=\"#000000\">gini = 0.451</text>\n<text text-anchor=\"middle\" x=\"1212\" y=\"-260.8\" font-family=\"Times,serif\" font-size=\"14.00\" fill=\"#000000\">samples = 1193</text>\n<text text-anchor=\"middle\" x=\"1212\" y=\"-245.8\" font-family=\"Times,serif\" font-size=\"14.00\" fill=\"#000000\">value = [784, 409]</text>\n<text text-anchor=\"middle\" x=\"1212\" y=\"-230.8\" font-family=\"Times,serif\" font-size=\"14.00\" fill=\"#000000\">class = AA</text>\n</g>\n<!-- 16&#45;&gt;17 -->\n<g id=\"edge17\" class=\"edge\">\n<title>16&#45;&gt;17</title>\n<path fill=\"none\" stroke=\"#000000\" d=\"M1212,-341.8796C1212,-333.6838 1212,-324.9891 1212,-316.5013\"/>\n<polygon fill=\"#000000\" stroke=\"#000000\" points=\"1215.5001,-316.298 1212,-306.2981 1208.5001,-316.2981 1215.5001,-316.298\"/>\n</g>\n<!-- 24 -->\n<g id=\"node25\" class=\"node\">\n<title>24</title>\n<polygon fill=\"#abd5f4\" stroke=\"#000000\" points=\"1684,-306 1574,-306 1574,-223 1684,-223 1684,-306\"/>\n<text text-anchor=\"middle\" x=\"1629\" y=\"-290.8\" font-family=\"Times,serif\" font-size=\"14.00\" fill=\"#000000\">[&#39;WA&#39;] &lt;= 0.5</text>\n<text text-anchor=\"middle\" x=\"1629\" y=\"-275.8\" font-family=\"Times,serif\" font-size=\"14.00\" fill=\"#000000\">gini = 0.463</text>\n<text text-anchor=\"middle\" x=\"1629\" y=\"-260.8\" font-family=\"Times,serif\" font-size=\"14.00\" fill=\"#000000\">samples = 96</text>\n<text text-anchor=\"middle\" x=\"1629\" y=\"-245.8\" font-family=\"Times,serif\" font-size=\"14.00\" fill=\"#000000\">value = [35, 61]</text>\n<text text-anchor=\"middle\" x=\"1629\" y=\"-230.8\" font-family=\"Times,serif\" font-size=\"14.00\" fill=\"#000000\">class = nonAA</text>\n</g>\n<!-- 16&#45;&gt;24 -->\n<g id=\"edge24\" class=\"edge\">\n<title>16&#45;&gt;24</title>\n<path fill=\"none\" stroke=\"#000000\" d=\"M1275.3333,-365.4265C1353.3363,-343.1666 1485.1531,-305.5498 1563.9403,-283.0662\"/>\n<polygon fill=\"#000000\" stroke=\"#000000\" points=\"1565.0945,-286.3766 1573.7501,-280.2668 1563.1735,-279.6454 1565.0945,-286.3766\"/>\n</g>\n<!-- 18 -->\n<g id=\"node19\" class=\"node\">\n<title>18</title>\n<polygon fill=\"#cbe5f8\" stroke=\"#000000\" points=\"1130.5,-187 1013.5,-187 1013.5,-104 1130.5,-104 1130.5,-187\"/>\n<text text-anchor=\"middle\" x=\"1072\" y=\"-171.8\" font-family=\"Times,serif\" font-size=\"14.00\" fill=\"#000000\">[&#39;Unclear&#39;] &lt;= 0.5</text>\n<text text-anchor=\"middle\" x=\"1072\" y=\"-156.8\" font-family=\"Times,serif\" font-size=\"14.00\" fill=\"#000000\">gini = 0.489</text>\n<text text-anchor=\"middle\" x=\"1072\" y=\"-141.8\" font-family=\"Times,serif\" font-size=\"14.00\" fill=\"#000000\">samples = 99</text>\n<text text-anchor=\"middle\" x=\"1072\" y=\"-126.8\" font-family=\"Times,serif\" font-size=\"14.00\" fill=\"#000000\">value = [42, 57]</text>\n<text text-anchor=\"middle\" x=\"1072\" y=\"-111.8\" font-family=\"Times,serif\" font-size=\"14.00\" fill=\"#000000\">class = nonAA</text>\n</g>\n<!-- 17&#45;&gt;18 -->\n<g id=\"edge18\" class=\"edge\">\n<title>17&#45;&gt;18</title>\n<path fill=\"none\" stroke=\"#000000\" d=\"M1163.0348,-222.8796C1152.0153,-213.513 1140.2291,-203.4948 1128.9158,-193.8784\"/>\n<polygon fill=\"#000000\" stroke=\"#000000\" points=\"1131.0604,-191.1078 1121.1742,-187.2981 1126.5268,-196.4414 1131.0604,-191.1078\"/>\n</g>\n<!-- 21 -->\n<g id=\"node22\" class=\"node\">\n<title>21</title>\n<polygon fill=\"#f1bd97\" stroke=\"#000000\" points=\"1555.5,-187 1148.5,-187 1148.5,-104 1555.5,-104 1555.5,-187\"/>\n<text text-anchor=\"middle\" x=\"1352\" y=\"-171.8\" font-family=\"Times,serif\" font-size=\"14.00\" fill=\"#000000\">[&#39;Other justified (Civilian board/Coroner/Medical examiner)&#39;] &lt;= 0.5</text>\n<text text-anchor=\"middle\" x=\"1352\" y=\"-156.8\" font-family=\"Times,serif\" font-size=\"14.00\" fill=\"#000000\">gini = 0.436</text>\n<text text-anchor=\"middle\" x=\"1352\" y=\"-141.8\" font-family=\"Times,serif\" font-size=\"14.00\" fill=\"#000000\">samples = 1094</text>\n<text text-anchor=\"middle\" x=\"1352\" y=\"-126.8\" font-family=\"Times,serif\" font-size=\"14.00\" fill=\"#000000\">value = [742, 352]</text>\n<text text-anchor=\"middle\" x=\"1352\" y=\"-111.8\" font-family=\"Times,serif\" font-size=\"14.00\" fill=\"#000000\">class = AA</text>\n</g>\n<!-- 17&#45;&gt;21 -->\n<g id=\"edge21\" class=\"edge\">\n<title>17&#45;&gt;21</title>\n<path fill=\"none\" stroke=\"#000000\" d=\"M1260.9652,-222.8796C1271.9847,-213.513 1283.7709,-203.4948 1295.0842,-193.8784\"/>\n<polygon fill=\"#000000\" stroke=\"#000000\" points=\"1297.4732,-196.4414 1302.8258,-187.2981 1292.9396,-191.1078 1297.4732,-196.4414\"/>\n</g>\n<!-- 19 -->\n<g id=\"node20\" class=\"node\">\n<title>19</title>\n<polygon fill=\"#e6f3fc\" stroke=\"#000000\" points=\"1127,-68 1017,-68 1017,0 1127,0 1127,-68\"/>\n<text text-anchor=\"middle\" x=\"1072\" y=\"-52.8\" font-family=\"Times,serif\" font-size=\"14.00\" fill=\"#000000\">gini = 0.498</text>\n<text text-anchor=\"middle\" x=\"1072\" y=\"-37.8\" font-family=\"Times,serif\" font-size=\"14.00\" fill=\"#000000\">samples = 90</text>\n<text text-anchor=\"middle\" x=\"1072\" y=\"-22.8\" font-family=\"Times,serif\" font-size=\"14.00\" fill=\"#000000\">value = [42, 48]</text>\n<text text-anchor=\"middle\" x=\"1072\" y=\"-7.8\" font-family=\"Times,serif\" font-size=\"14.00\" fill=\"#000000\">class = nonAA</text>\n</g>\n<!-- 18&#45;&gt;19 -->\n<g id=\"edge19\" class=\"edge\">\n<title>18&#45;&gt;19</title>\n<path fill=\"none\" stroke=\"#000000\" d=\"M1072,-103.9815C1072,-95.618 1072,-86.7965 1072,-78.3409\"/>\n<polygon fill=\"#000000\" stroke=\"#000000\" points=\"1075.5001,-78.2636 1072,-68.2637 1068.5001,-78.2637 1075.5001,-78.2636\"/>\n</g>\n<!-- 20 -->\n<g id=\"node21\" class=\"node\">\n<title>20</title>\n<polygon fill=\"#399de5\" stroke=\"#000000\" points=\"1247,-68 1145,-68 1145,0 1247,0 1247,-68\"/>\n<text text-anchor=\"middle\" x=\"1196\" y=\"-52.8\" font-family=\"Times,serif\" font-size=\"14.00\" fill=\"#000000\">gini = 0.0</text>\n<text text-anchor=\"middle\" x=\"1196\" y=\"-37.8\" font-family=\"Times,serif\" font-size=\"14.00\" fill=\"#000000\">samples = 9</text>\n<text text-anchor=\"middle\" x=\"1196\" y=\"-22.8\" font-family=\"Times,serif\" font-size=\"14.00\" fill=\"#000000\">value = [0, 9]</text>\n<text text-anchor=\"middle\" x=\"1196\" y=\"-7.8\" font-family=\"Times,serif\" font-size=\"14.00\" fill=\"#000000\">class = nonAA</text>\n</g>\n<!-- 18&#45;&gt;20 -->\n<g id=\"edge20\" class=\"edge\">\n<title>18&#45;&gt;20</title>\n<path fill=\"none\" stroke=\"#000000\" d=\"M1118.173,-103.9815C1128.7007,-94.5151 1139.8808,-84.462 1150.3849,-75.0168\"/>\n<polygon fill=\"#000000\" stroke=\"#000000\" points=\"1152.7994,-77.5526 1157.8951,-68.2637 1148.1189,-72.3475 1152.7994,-77.5526\"/>\n</g>\n<!-- 22 -->\n<g id=\"node23\" class=\"node\">\n<title>22</title>\n<polygon fill=\"#f1bb95\" stroke=\"#000000\" points=\"1402.5,-68 1277.5,-68 1277.5,0 1402.5,0 1402.5,-68\"/>\n<text text-anchor=\"middle\" x=\"1340\" y=\"-52.8\" font-family=\"Times,serif\" font-size=\"14.00\" fill=\"#000000\">gini = 0.433</text>\n<text text-anchor=\"middle\" x=\"1340\" y=\"-37.8\" font-family=\"Times,serif\" font-size=\"14.00\" fill=\"#000000\">samples = 1084</text>\n<text text-anchor=\"middle\" x=\"1340\" y=\"-22.8\" font-family=\"Times,serif\" font-size=\"14.00\" fill=\"#000000\">value = [741, 343]</text>\n<text text-anchor=\"middle\" x=\"1340\" y=\"-7.8\" font-family=\"Times,serif\" font-size=\"14.00\" fill=\"#000000\">class = AA</text>\n</g>\n<!-- 21&#45;&gt;22 -->\n<g id=\"edge22\" class=\"edge\">\n<title>21&#45;&gt;22</title>\n<path fill=\"none\" stroke=\"#000000\" d=\"M1347.5316,-103.9815C1346.6315,-95.618 1345.6821,-86.7965 1344.7721,-78.3409\"/>\n<polygon fill=\"#000000\" stroke=\"#000000\" points=\"1348.2376,-77.8317 1343.6876,-68.2637 1341.2778,-78.5808 1348.2376,-77.8317\"/>\n</g>\n<!-- 23 -->\n<g id=\"node24\" class=\"node\">\n<title>23</title>\n<polygon fill=\"#4fa8e8\" stroke=\"#000000\" points=\"1523,-68 1421,-68 1421,0 1523,0 1523,-68\"/>\n<text text-anchor=\"middle\" x=\"1472\" y=\"-52.8\" font-family=\"Times,serif\" font-size=\"14.00\" fill=\"#000000\">gini = 0.18</text>\n<text text-anchor=\"middle\" x=\"1472\" y=\"-37.8\" font-family=\"Times,serif\" font-size=\"14.00\" fill=\"#000000\">samples = 10</text>\n<text text-anchor=\"middle\" x=\"1472\" y=\"-22.8\" font-family=\"Times,serif\" font-size=\"14.00\" fill=\"#000000\">value = [1, 9]</text>\n<text text-anchor=\"middle\" x=\"1472\" y=\"-7.8\" font-family=\"Times,serif\" font-size=\"14.00\" fill=\"#000000\">class = nonAA</text>\n</g>\n<!-- 21&#45;&gt;23 -->\n<g id=\"edge23\" class=\"edge\">\n<title>21&#45;&gt;23</title>\n<path fill=\"none\" stroke=\"#000000\" d=\"M1396.6836,-103.9815C1406.7727,-94.607 1417.481,-84.6572 1427.5601,-75.2921\"/>\n<polygon fill=\"#000000\" stroke=\"#000000\" points=\"1430.1809,-77.6346 1435.1243,-68.2637 1425.4161,-72.5065 1430.1809,-77.6346\"/>\n</g>\n<!-- 25 -->\n<g id=\"node26\" class=\"node\">\n<title>25</title>\n<polygon fill=\"#9ecff2\" stroke=\"#000000\" points=\"1684,-187 1574,-187 1574,-104 1684,-104 1684,-187\"/>\n<text text-anchor=\"middle\" x=\"1629\" y=\"-171.8\" font-family=\"Times,serif\" font-size=\"14.00\" fill=\"#000000\">[&#39;Foot&#39;] &lt;= 0.5</text>\n<text text-anchor=\"middle\" x=\"1629\" y=\"-156.8\" font-family=\"Times,serif\" font-size=\"14.00\" fill=\"#000000\">gini = 0.447</text>\n<text text-anchor=\"middle\" x=\"1629\" y=\"-141.8\" font-family=\"Times,serif\" font-size=\"14.00\" fill=\"#000000\">samples = 92</text>\n<text text-anchor=\"middle\" x=\"1629\" y=\"-126.8\" font-family=\"Times,serif\" font-size=\"14.00\" fill=\"#000000\">value = [31, 61]</text>\n<text text-anchor=\"middle\" x=\"1629\" y=\"-111.8\" font-family=\"Times,serif\" font-size=\"14.00\" fill=\"#000000\">class = nonAA</text>\n</g>\n<!-- 24&#45;&gt;25 -->\n<g id=\"edge25\" class=\"edge\">\n<title>24&#45;&gt;25</title>\n<path fill=\"none\" stroke=\"#000000\" d=\"M1629,-222.8796C1629,-214.6838 1629,-205.9891 1629,-197.5013\"/>\n<polygon fill=\"#000000\" stroke=\"#000000\" points=\"1632.5001,-197.298 1629,-187.2981 1625.5001,-197.2981 1632.5001,-197.298\"/>\n</g>\n<!-- 28 -->\n<g id=\"node29\" class=\"node\">\n<title>28</title>\n<polygon fill=\"#e58139\" stroke=\"#000000\" points=\"1797.5,-179.5 1702.5,-179.5 1702.5,-111.5 1797.5,-111.5 1797.5,-179.5\"/>\n<text text-anchor=\"middle\" x=\"1750\" y=\"-164.3\" font-family=\"Times,serif\" font-size=\"14.00\" fill=\"#000000\">gini = 0.0</text>\n<text text-anchor=\"middle\" x=\"1750\" y=\"-149.3\" font-family=\"Times,serif\" font-size=\"14.00\" fill=\"#000000\">samples = 4</text>\n<text text-anchor=\"middle\" x=\"1750\" y=\"-134.3\" font-family=\"Times,serif\" font-size=\"14.00\" fill=\"#000000\">value = [4, 0]</text>\n<text text-anchor=\"middle\" x=\"1750\" y=\"-119.3\" font-family=\"Times,serif\" font-size=\"14.00\" fill=\"#000000\">class = AA</text>\n</g>\n<!-- 24&#45;&gt;28 -->\n<g id=\"edge28\" class=\"edge\">\n<title>24&#45;&gt;28</title>\n<path fill=\"none\" stroke=\"#000000\" d=\"M1671.3199,-222.8796C1683.1717,-211.2237 1696.0495,-198.5587 1707.8891,-186.9148\"/>\n<polygon fill=\"#000000\" stroke=\"#000000\" points=\"1710.4327,-189.3223 1715.1083,-179.8149 1705.5244,-184.3314 1710.4327,-189.3223\"/>\n</g>\n<!-- 26 -->\n<g id=\"node27\" class=\"node\">\n<title>26</title>\n<polygon fill=\"#b9dcf6\" stroke=\"#000000\" points=\"1668,-68 1558,-68 1558,0 1668,0 1668,-68\"/>\n<text text-anchor=\"middle\" x=\"1613\" y=\"-52.8\" font-family=\"Times,serif\" font-size=\"14.00\" fill=\"#000000\">gini = 0.477</text>\n<text text-anchor=\"middle\" x=\"1613\" y=\"-37.8\" font-family=\"Times,serif\" font-size=\"14.00\" fill=\"#000000\">samples = 79</text>\n<text text-anchor=\"middle\" x=\"1613\" y=\"-22.8\" font-family=\"Times,serif\" font-size=\"14.00\" fill=\"#000000\">value = [31, 48]</text>\n<text text-anchor=\"middle\" x=\"1613\" y=\"-7.8\" font-family=\"Times,serif\" font-size=\"14.00\" fill=\"#000000\">class = nonAA</text>\n</g>\n<!-- 25&#45;&gt;26 -->\n<g id=\"edge26\" class=\"edge\">\n<title>25&#45;&gt;26</title>\n<path fill=\"none\" stroke=\"#000000\" d=\"M1623.0422,-103.9815C1621.842,-95.618 1620.5762,-86.7965 1619.3628,-78.3409\"/>\n<polygon fill=\"#000000\" stroke=\"#000000\" points=\"1622.8018,-77.6651 1617.9168,-68.2637 1615.8728,-78.6595 1622.8018,-77.6651\"/>\n</g>\n<!-- 27 -->\n<g id=\"node28\" class=\"node\">\n<title>27</title>\n<polygon fill=\"#399de5\" stroke=\"#000000\" points=\"1788,-68 1686,-68 1686,0 1788,0 1788,-68\"/>\n<text text-anchor=\"middle\" x=\"1737\" y=\"-52.8\" font-family=\"Times,serif\" font-size=\"14.00\" fill=\"#000000\">gini = 0.0</text>\n<text text-anchor=\"middle\" x=\"1737\" y=\"-37.8\" font-family=\"Times,serif\" font-size=\"14.00\" fill=\"#000000\">samples = 13</text>\n<text text-anchor=\"middle\" x=\"1737\" y=\"-22.8\" font-family=\"Times,serif\" font-size=\"14.00\" fill=\"#000000\">value = [0, 13]</text>\n<text text-anchor=\"middle\" x=\"1737\" y=\"-7.8\" font-family=\"Times,serif\" font-size=\"14.00\" fill=\"#000000\">class = nonAA</text>\n</g>\n<!-- 25&#45;&gt;27 -->\n<g id=\"edge27\" class=\"edge\">\n<title>25&#45;&gt;27</title>\n<path fill=\"none\" stroke=\"#000000\" d=\"M1669.2152,-103.9815C1678.2064,-94.6989 1687.744,-84.8522 1696.7371,-75.5677\"/>\n<polygon fill=\"#000000\" stroke=\"#000000\" points=\"1699.3684,-77.8817 1703.8119,-68.2637 1694.3404,-73.0115 1699.3684,-77.8817\"/>\n</g>\n</g>\n</svg>\n"
          },
          "metadata": {
            "tags": []
          },
          "execution_count": 29
        }
      ]
    },
    {
      "cell_type": "code",
      "metadata": {
        "id": "LkF3DAifrP17",
        "colab": {
          "base_uri": "https://localhost:8080/",
          "height": 1000
        },
        "outputId": "24ba2916-5133-4f43-bab3-f7a2130d8dbc"
      },
      "source": [
        "from sklearn.metrics import accuracy_score\n",
        "accuracies = []\n",
        "medAccuracies = []\n",
        "depths = []\n",
        "for i in range(5,500, 5):\n",
        "  print(i)\n",
        "  depths.append(i)\n",
        "  model = RandomForestClassifier(300, max_depth=i)\n",
        "  model.fit(X_train, y_train)\n",
        "  estimatorAccuracy=[]\n",
        "  for curEstimator in range(300):\n",
        "    estimatorAccuracy.append([curEstimator,accuracy_score(y_test, model.estimators_[curEstimator].predict(X_test))])\n",
        "\n",
        "  estimatorAccuracy=pd.DataFrame(estimatorAccuracy,columns=['estimatorNumber','Accuracy'])\n",
        "  estimatorAccuracy.sort_values(inplace=True,by='Accuracy',ascending=False)\n",
        "  estimatorAccuracy = estimatorAccuracy.reset_index(drop=True)\n",
        "\n",
        "  bestAccuracy= estimatorAccuracy['Accuracy'][0]\n",
        "  accuracies.append(bestAccuracy)\n",
        "  medAccuracies.append(estimatorAccuracy['Accuracy'][(len(estimatorAccuracy)/2) + 1])\n",
        "\n",
        "\n",
        "estimatorAccuracy.head()"
      ],
      "execution_count": null,
      "outputs": [
        {
          "output_type": "stream",
          "text": [
            "5\n",
            "10\n",
            "15\n",
            "20\n",
            "25\n",
            "30\n",
            "35\n",
            "40\n",
            "45\n",
            "50\n",
            "55\n",
            "60\n",
            "65\n",
            "70\n",
            "75\n",
            "80\n",
            "85\n",
            "90\n",
            "95\n",
            "100\n",
            "105\n",
            "110\n",
            "115\n",
            "120\n",
            "125\n",
            "130\n",
            "135\n",
            "140\n",
            "145\n",
            "150\n",
            "155\n",
            "160\n",
            "165\n",
            "170\n",
            "175\n",
            "180\n",
            "185\n",
            "190\n",
            "195\n",
            "200\n",
            "205\n",
            "210\n",
            "215\n",
            "220\n",
            "225\n",
            "230\n",
            "235\n",
            "240\n",
            "245\n",
            "250\n",
            "255\n",
            "260\n",
            "265\n",
            "270\n",
            "275\n",
            "280\n",
            "285\n",
            "290\n",
            "295\n",
            "300\n",
            "305\n",
            "310\n",
            "315\n",
            "320\n",
            "325\n",
            "330\n",
            "335\n",
            "340\n",
            "345\n",
            "350\n",
            "355\n",
            "360\n",
            "365\n",
            "370\n",
            "375\n",
            "380\n",
            "385\n",
            "390\n",
            "395\n",
            "400\n",
            "405\n",
            "410\n",
            "415\n",
            "420\n",
            "425\n",
            "430\n",
            "435\n",
            "440\n",
            "445\n",
            "450\n",
            "455\n",
            "460\n",
            "465\n",
            "470\n",
            "475\n",
            "480\n",
            "485\n",
            "490\n",
            "495\n"
          ],
          "name": "stdout"
        },
        {
          "output_type": "execute_result",
          "data": {
            "text/html": [
              "<div>\n",
              "<style scoped>\n",
              "    .dataframe tbody tr th:only-of-type {\n",
              "        vertical-align: middle;\n",
              "    }\n",
              "\n",
              "    .dataframe tbody tr th {\n",
              "        vertical-align: top;\n",
              "    }\n",
              "\n",
              "    .dataframe thead th {\n",
              "        text-align: right;\n",
              "    }\n",
              "</style>\n",
              "<table border=\"1\" class=\"dataframe\">\n",
              "  <thead>\n",
              "    <tr style=\"text-align: right;\">\n",
              "      <th></th>\n",
              "      <th>estimatorNumber</th>\n",
              "      <th>Accuracy</th>\n",
              "    </tr>\n",
              "  </thead>\n",
              "  <tbody>\n",
              "    <tr>\n",
              "      <th>0</th>\n",
              "      <td>235</td>\n",
              "      <td>0.765439</td>\n",
              "    </tr>\n",
              "    <tr>\n",
              "      <th>1</th>\n",
              "      <td>220</td>\n",
              "      <td>0.763658</td>\n",
              "    </tr>\n",
              "    <tr>\n",
              "      <th>2</th>\n",
              "      <td>109</td>\n",
              "      <td>0.760095</td>\n",
              "    </tr>\n",
              "    <tr>\n",
              "      <th>3</th>\n",
              "      <td>244</td>\n",
              "      <td>0.758907</td>\n",
              "    </tr>\n",
              "    <tr>\n",
              "      <th>4</th>\n",
              "      <td>243</td>\n",
              "      <td>0.758907</td>\n",
              "    </tr>\n",
              "  </tbody>\n",
              "</table>\n",
              "</div>"
            ],
            "text/plain": [
              "   estimatorNumber  Accuracy\n",
              "0              235  0.765439\n",
              "1              220  0.763658\n",
              "2              109  0.760095\n",
              "3              244  0.758907\n",
              "4              243  0.758907"
            ]
          },
          "metadata": {
            "tags": []
          },
          "execution_count": 30
        }
      ]
    },
    {
      "cell_type": "code",
      "metadata": {
        "colab": {
          "base_uri": "https://localhost:8080/",
          "height": 312
        },
        "id": "YyjdhabWJqrF",
        "outputId": "5622d243-9dda-44b6-9831-fe4e8c042fc0"
      },
      "source": [
        "plt.title(\"Various Accuracies of Decision Trees in the Random Forest Based On Depth\")\n",
        "plt.plot(depths, accuracies, label = \"Accuracy of the Most Accurate Decision Tree in the Random Forest\")\n",
        "plt.plot(depths, medAccuracies, label = \"Median Accuracy of the Decision Trees in the Random Forest\")\n",
        "\n",
        "plt.xlabel(\"Maximum Depth\")\n",
        "plt.ylabel(\"Accuracy\")\n",
        "plt.legend()"
      ],
      "execution_count": null,
      "outputs": [
        {
          "output_type": "execute_result",
          "data": {
            "text/plain": [
              "<matplotlib.legend.Legend at 0x7f1bbbad2cd0>"
            ]
          },
          "metadata": {
            "tags": []
          },
          "execution_count": 31
        },
        {
          "output_type": "display_data",
          "data": {
            "image/png": "[encoded data removed]",
            "text/plain": [
              "<Figure size 432x288 with 1 Axes>"
            ]
          },
          "metadata": {
            "tags": [],
            "needs_background": "light"
          }
        }
      ]
    },
    {
      "cell_type": "code",
      "metadata": {
        "colab": {
          "base_uri": "https://localhost:8080/",
          "height": 460
        },
        "id": "gWfV9tLOsezn",
        "outputId": "b9cd1c7a-2331-4e9e-f08a-2b5b33390d61"
      },
      "source": [
        "import matplotlib.pyplot as plt # has a different graph nearly every time, but the range of accuracies is always similar, which is what the graph is used for\n",
        "answers = []\n",
        "for i in range(100):\n",
        "  model = RandomForestClassifier(300) \n",
        "  model.fit(X_train, y_train)\n",
        "  preds = model.predict(X_test)\n",
        "  check = 0\n",
        "  num_correct = 0\n",
        "  for i in range(len(preds)):\n",
        "    if(preds[i] < 0.5):\n",
        "      preds[i] = 0\n",
        "    else:\n",
        "      preds[i] == 1\n",
        "  for i in range(len(preds)):\n",
        "    if(preds[i].round() == y_test[i]):\n",
        "      num_correct += 1\n",
        "  answers.append(num_correct / len(preds))\n",
        "\n",
        "plt.rcParams.update({'figure.figsize':(7,5), 'figure.dpi':100})\n",
        "plt.hist(answers, bins=20)\n",
        "plt.gca().set(title='Accuracy Distribution', ylabel='Frequency');"
      ],
      "execution_count": null,
      "outputs": [
        {
          "output_type": "display_data",
          "data": {
            "image/png": "[encoded data removed]",
            "text/plain": [
              "<Figure size 700x500 with 1 Axes>"
            ]
          },
          "metadata": {
            "tags": [],
            "needs_background": "light"
          }
        }
      ]
    },
    {
      "cell_type": "code",
      "metadata": {
        "id": "Gf3uLFwEYtmV",
        "colab": {
          "base_uri": "https://localhost:8080/"
        },
        "outputId": "84206c5f-aa17-4e99-8411-47b749180857"
      },
      "source": [
        "from sklearn import svm\n",
        "from sklearn.metrics import f1_score\n",
        "model = svm.SVC()\n",
        "model.fit(X_train, y_train)\n",
        "preds = model.predict(X_test)\n",
        "check = 0\n",
        "num_correct = 0\n",
        "for i in range(len(preds)):\n",
        "  if(preds[i] < 0.5):\n",
        "    preds[i] = 0\n",
        "  else:\n",
        "    preds[i] == 1\n",
        "for i in range(len(preds)):\n",
        "  if(preds[i].round() == y_test[i]):\n",
        "    num_correct += 1\n",
        "print(\"The fraction of correctly classified examples in the test set is: \" + str(num_correct / len(preds)))\n",
        "f1_score(y_test, preds, average = None)"
      ],
      "execution_count": null,
      "outputs": [
        {
          "output_type": "stream",
          "text": [
            "The fraction of correctly classified examples in the test set is: 0.7256532066508313\n"
          ],
          "name": "stdout"
        },
        {
          "output_type": "execute_result",
          "data": {
            "text/plain": [
              "array([0.71656442, 0.73417722])"
            ]
          },
          "metadata": {
            "tags": []
          },
          "execution_count": 33
        }
      ]
    },
    {
      "cell_type": "code",
      "metadata": {
        "colab": {
          "base_uri": "https://localhost:8080/"
        },
        "id": "CEj6GgNOosH9",
        "outputId": "0d4a88c8-75d0-44e0-f76d-96ed785d34f1"
      },
      "source": [
        "from sklearn.ensemble import GradientBoostingClassifier\n",
        "from sklearn.metrics import f1_score\n",
        "model = GradientBoostingClassifier(n_estimators = 300, max_depth= None)\n",
        "model.fit(X_train, y_train)\n",
        "preds = model.predict(X_test)\n",
        "check = 0\n",
        "num_correct = 0\n",
        "for i in range(len(preds)):\n",
        "  if(preds[i] < 0.5):\n",
        "    preds[i] = 0\n",
        "  else:\n",
        "    preds[i] == 1\n",
        "for i in range(len(preds)):\n",
        "  if(preds[i].round() == y_test[i]):\n",
        "    num_correct += 1\n",
        "print(\"The fraction of correctly classified examples in the test set is: \" + str(num_correct / len(preds)))\n",
        "f1_score(y_test, preds, average = None)"
      ],
      "execution_count": null,
      "outputs": [
        {
          "output_type": "stream",
          "text": [
            "The fraction of correctly classified examples in the test set is: 0.7986935866983373\n"
          ],
          "name": "stdout"
        },
        {
          "output_type": "execute_result",
          "data": {
            "text/plain": [
              "array([0.7831094 , 0.81218837])"
            ]
          },
          "metadata": {
            "tags": []
          },
          "execution_count": 63
        }
      ]
    },
    {
      "cell_type": "code",
      "metadata": {
        "colab": {
          "base_uri": "https://localhost:8080/"
        },
        "id": "TWZEQcqFprre",
        "outputId": "78126937-6d01-4de9-9ec7-c7911437e4f3"
      },
      "source": [
        "from sklearn.linear_model import Lasso, LogisticRegression\n",
        "from sklearn.metrics import f1_score\n",
        "model = LogisticRegression()\n",
        "model.fit(X_train, y_train)\n",
        "preds = model.predict(X_test)\n",
        "check = 0\n",
        "num_correct = 0\n",
        "for i in range(len(preds)):\n",
        "  if(preds[i] < 0.5):\n",
        "    preds[i] = 0\n",
        "  else:\n",
        "    preds[i] == 1\n",
        "for i in range(len(preds)):\n",
        "  if(preds[i].round() == y_test[i]):\n",
        "    num_correct += 1\n",
        "print(\"The fraction of correctly classified examples in the test set is: \" + str(num_correct / len(preds)))\n",
        "f1_score(y_test, preds, average = None)"
      ],
      "execution_count": null,
      "outputs": [
        {
          "output_type": "stream",
          "text": [
            "The fraction of correctly classified examples in the test set is: 0.7084323040380047\n"
          ],
          "name": "stdout"
        },
        {
          "output_type": "stream",
          "text": [
            "/usr/local/lib/python3.7/dist-packages/sklearn/linear_model/_logistic.py:940: ConvergenceWarning: lbfgs failed to converge (status=1):\n",
            "STOP: TOTAL NO. of ITERATIONS REACHED LIMIT.\n",
            "\n",
            "Increase the number of iterations (max_iter) or scale the data as shown in:\n",
            "    https://scikit-learn.org/stable/modules/preprocessing.html\n",
            "Please also refer to the documentation for alternative solver options:\n",
            "    https://scikit-learn.org/stable/modules/linear_model.html#logistic-regression\n",
            "  extra_warning_msg=_LOGISTIC_SOLVER_CONVERGENCE_MSG)\n"
          ],
          "name": "stderr"
        },
        {
          "output_type": "execute_result",
          "data": {
            "text/plain": [
              "array([0.69672637, 0.71926815])"
            ]
          },
          "metadata": {
            "tags": []
          },
          "execution_count": 60
        }
      ]
    }
  ]
}